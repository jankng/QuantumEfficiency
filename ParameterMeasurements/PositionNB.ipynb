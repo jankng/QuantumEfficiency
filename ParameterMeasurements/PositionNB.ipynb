{
 "cells": [
  {
   "cell_type": "code",
   "execution_count": 4,
   "metadata": {},
   "outputs": [
    {
     "data": {
      "text/html": [
       "        <script type=\"text/javascript\">\n",
       "        window.PlotlyConfig = {MathJaxConfig: 'local'};\n",
       "        if (window.MathJax) {MathJax.Hub.Config({SVG: {font: \"STIX-Web\"}});}\n",
       "        if (typeof require !== 'undefined') {\n",
       "        require.undef(\"plotly\");\n",
       "        requirejs.config({\n",
       "            paths: {\n",
       "                'plotly': ['https://cdn.plot.ly/plotly-latest.min']\n",
       "            }\n",
       "        });\n",
       "        require(['plotly'], function(Plotly) {\n",
       "            window._Plotly = Plotly;\n",
       "        });\n",
       "        }\n",
       "        </script>\n",
       "        "
      ]
     },
     "metadata": {},
     "output_type": "display_data"
    }
   ],
   "source": [
    "import plotly\n",
    "import plotly.graph_objs as go\n",
    "import plotly.io as pio\n",
    "from position import getDSR\n",
    "plotly.offline.init_notebook_mode(connected=True)"
   ]
  },
  {
   "cell_type": "code",
   "execution_count": 5,
   "metadata": {},
   "outputs": [],
   "source": [
    "def genLayout(title, xlabel, ylabel):\n",
    "    layout = go.Layout(\n",
    "        title=go.layout.Title(\n",
    "            text=title,\n",
    "            xref='paper',\n",
    "            x=0\n",
    "        ),\n",
    "        xaxis=go.layout.XAxis(\n",
    "            title=go.layout.xaxis.Title(\n",
    "                text=xlabel\n",
    "            )\n",
    "        ),\n",
    "        yaxis=go.layout.YAxis(\n",
    "            title=go.layout.yaxis.Title(\n",
    "                text=ylabel\n",
    "            )\n",
    "        )\n",
    "    )\n",
    "    return layout"
   ]
  },
  {
   "cell_type": "code",
   "execution_count": 6,
   "metadata": {},
   "outputs": [],
   "source": [
    "dsr = []\n",
    "dsr.append(getDSR(\"TestzelleDSROptimal.txt\"))\n",
    "dsr.append(getDSR(\"TestzelleDSRLeft.txt\"))\n",
    "dsr.append(getDSR(\"TestzelleDSRRight.txt\"))\n",
    "dsr.append(getDSR(\"TestzelleDSRLow.txt\"))"
   ]
  },
  {
   "cell_type": "code",
   "execution_count": null,
   "metadata": {},
   "outputs": [],
   "source": [
    "trace0 = go.Scatter(\n",
    "    x = dsr[0][0],\n",
    "    y = dsr[0][1],\n",
    "    mode = 'markers',\n",
    "    name = 'Testzelle Optimal'\n",
    ")\n",
    "trace1 = go.Scatter(\n",
    "    x = dsr[1][0],\n",
    "    y = dsr[1][1],\n",
    "    mode = 'markers',\n",
    "    name = 'Testzelle Left'\n",
    ")\n",
    "trace2 = go.Scatter(\n",
    "    x = dsr[2][0],\n",
    "    y = dsr[2][1],\n",
    "    mode = 'markers',\n",
    "    name = 'Testzelle Right'\n",
    ")\n",
    "trace3 = go.Scatter(\n",
    "    x = dsr[3][0],\n",
    "    y = dsr[3][1],\n",
    "    mode = 'markers',\n",
    "    name = 'Testzelle Low'\n",
    ")\n",
    "\n",
    "traces = [trace0, trace1, trace2, trace3]\n",
    "\n",
    "title = 'DSR of test cell for different positions'\n",
    "xlabel = 'Wavelength [nm]'\n",
    "ylabel = 'DSR [mA W^-1 m²]'\n",
    "fig = go.Figure(data=traces, layout=genLayout(title, xlabel, ylabel))\n",
    "\n",
    "plotly.offline.plot(fig, filename='../../InteractiveGraphs/Positions.html')\n",
    "#pio.write_image(fig, '../Latex/figures/positions.eps')"
   ]
  },
  {
   "cell_type": "code",
   "execution_count": null,
   "metadata": {},
   "outputs": [],
   "source": []
  }
 ],
 "metadata": {
  "kernelspec": {
   "display_name": "Python 3",
   "language": "python",
   "name": "python3"
  },
  "language_info": {
   "codemirror_mode": {
    "name": "ipython",
    "version": 3
   },
   "file_extension": ".py",
   "mimetype": "text/x-python",
   "name": "python",
   "nbconvert_exporter": "python",
   "pygments_lexer": "ipython3",
   "version": "3.6.7"
  }
 },
 "nbformat": 4,
 "nbformat_minor": 2
}
