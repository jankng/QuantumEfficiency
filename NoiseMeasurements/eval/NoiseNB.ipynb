{
 "cells": [
  {
   "cell_type": "code",
   "execution_count": 2,
   "metadata": {},
   "outputs": [
    {
     "data": {
      "text/html": [
       "        <script type=\"text/javascript\">\n",
       "        window.PlotlyConfig = {MathJaxConfig: 'local'};\n",
       "        if (window.MathJax) {MathJax.Hub.Config({SVG: {font: \"STIX-Web\"}});}\n",
       "        if (typeof require !== 'undefined') {\n",
       "        require.undef(\"plotly\");\n",
       "        requirejs.config({\n",
       "            paths: {\n",
       "                'plotly': ['https://cdn.plot.ly/plotly-latest.min']\n",
       "            }\n",
       "        });\n",
       "        require(['plotly'], function(Plotly) {\n",
       "            window._Plotly = Plotly;\n",
       "        });\n",
       "        }\n",
       "        </script>\n",
       "        "
      ]
     },
     "metadata": {},
     "output_type": "display_data"
    }
   ],
   "source": [
    "import plotly\n",
    "import plotly.graph_objs as go\n",
    "import plotly.io as pio\n",
    "from noise import getNoise\n",
    "\n",
    "plotly.offline.init_notebook_mode(connected=True)"
   ]
  },
  {
   "cell_type": "code",
   "execution_count": 24,
   "metadata": {},
   "outputs": [
    {
     "name": "stdout",
     "output_type": "stream",
     "text": [
      "Wavelength \t Sample Avg \t Sample Std \t Monitor Avg \t Monitor Std\n"
     ]
    }
   ],
   "source": [
    "data = getNoise(\"Testzelle\")\n",
    "errs = [i * 3 for i in data[4]]"
   ]
  },
  {
   "cell_type": "code",
   "execution_count": 25,
   "metadata": {},
   "outputs": [
    {
     "data": {
      "application/vnd.plotly.v1+json": {
       "config": {
        "linkText": "Export to plot.ly",
        "plotlyServerURL": "https://plot.ly",
        "responsive": true,
        "showLink": false
       },
       "data": [
        {
         "error_y": {
          "array": [
           0.0019438561280094781,
           0.07521092724438386,
           0.00011723207752147091,
           0.000157671049974306,
           0.0001581361438760926,
           0.00010322790320451798,
           0.000789039922944325,
           0.0008703930146778691,
           0.0007125615762865883,
           0.0005526517891041372
          ],
          "type": "data",
          "visible": true
         },
         "mode": "markers",
         "name": "Testzelle",
         "type": "scatter",
         "uid": "a4adba39-5387-4446-b543-9b24ef139bec",
         "x": [
          300,
          400,
          500,
          600,
          700,
          800,
          900,
          1000,
          1100,
          1200
         ],
         "y": [
          0.0035970200000000003,
          0.0764416,
          0.0180686,
          0.0300176,
          0.08379120000000001,
          0.12855999999999998,
          0.19668200000000002,
          0.289682,
          0.320122,
          0.310292
         ]
        }
       ],
       "layout": {}
      },
      "text/html": [
       "<div>\n",
       "        \n",
       "        \n",
       "            <div id=\"7de320c6-1e71-4570-8c93-acaac3505caa\" class=\"plotly-graph-div\" style=\"height:525px; width:100%;\"></div>\n",
       "            <script type=\"text/javascript\">\n",
       "                require([\"plotly\"], function(Plotly) {\n",
       "                    window.PLOTLYENV=window.PLOTLYENV || {};\n",
       "                    window.PLOTLYENV.BASE_URL='https://plot.ly';\n",
       "                    \n",
       "                if (document.getElementById(\"7de320c6-1e71-4570-8c93-acaac3505caa\")) {\n",
       "                    Plotly.newPlot(\n",
       "                        '7de320c6-1e71-4570-8c93-acaac3505caa',\n",
       "                        [{\"error_y\": {\"array\": [0.0019438561280094781, 0.07521092724438386, 0.00011723207752147091, 0.000157671049974306, 0.0001581361438760926, 0.00010322790320451798, 0.000789039922944325, 0.0008703930146778691, 0.0007125615762865883, 0.0005526517891041372], \"type\": \"data\", \"visible\": true}, \"mode\": \"markers\", \"name\": \"Testzelle\", \"type\": \"scatter\", \"uid\": \"70afe024-4e4e-4afa-9c68-c9886b9409d9\", \"x\": [300, 400, 500, 600, 700, 800, 900, 1000, 1100, 1200], \"y\": [0.0035970200000000003, 0.0764416, 0.0180686, 0.0300176, 0.08379120000000001, 0.12855999999999998, 0.19668200000000002, 0.289682, 0.320122, 0.310292]}],\n",
       "                        {},\n",
       "                        {\"showLink\": false, \"linkText\": \"Export to plot.ly\", \"plotlyServerURL\": \"https://plot.ly\", \"responsive\": true}\n",
       "                    ).then(function(){\n",
       "                            \n",
       "var gd = document.getElementById('7de320c6-1e71-4570-8c93-acaac3505caa');\n",
       "var x = new MutationObserver(function (mutations, observer) {{\n",
       "        var display = window.getComputedStyle(gd).display;\n",
       "        if (!display || display === 'none') {{\n",
       "            console.log([gd, 'removed!']);\n",
       "            Plotly.purge(gd);\n",
       "            observer.disconnect();\n",
       "        }}\n",
       "}});\n",
       "\n",
       "// Listen for the removal of the full notebook cells\n",
       "var notebookContainer = gd.closest('#notebook-container');\n",
       "if (notebookContainer) {{\n",
       "    x.observe(notebookContainer, {childList: true});\n",
       "}}\n",
       "\n",
       "// Listen for the clearing of the current output cell\n",
       "var outputEl = gd.closest('.output');\n",
       "if (outputEl) {{\n",
       "    x.observe(outputEl, {childList: true});\n",
       "}}\n",
       "\n",
       "                        })\n",
       "                };\n",
       "                });\n",
       "            </script>\n",
       "        </div>"
      ]
     },
     "metadata": {},
     "output_type": "display_data"
    }
   ],
   "source": [
    "trace0 = go.Scatter(\n",
    "    x = data[0],\n",
    "    y = data[3],\n",
    "    mode = 'markers',\n",
    "    name = 'Testzelle',\n",
    "    error_y=dict(\n",
    "            type='data',\n",
    "            array=errs,\n",
    "            visible=True\n",
    "        )\n",
    ")\n",
    "\n",
    "traces = [trace0]\n",
    "plotly.offline.iplot(traces, filename='scatter-mode')\n",
    "#[i * 5 for i in my_list]"
   ]
  },
  {
   "cell_type": "code",
   "execution_count": null,
   "metadata": {},
   "outputs": [],
   "source": []
  }
 ],
 "metadata": {
  "kernelspec": {
   "display_name": "Python 3",
   "language": "python",
   "name": "python3"
  },
  "language_info": {
   "codemirror_mode": {
    "name": "ipython",
    "version": 3
   },
   "file_extension": ".py",
   "mimetype": "text/x-python",
   "name": "python",
   "nbconvert_exporter": "python",
   "pygments_lexer": "ipython3",
   "version": "3.6.7"
  }
 },
 "nbformat": 4,
 "nbformat_minor": 2
}
