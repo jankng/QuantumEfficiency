{
 "cells": [
  {
   "cell_type": "code",
   "execution_count": 7,
   "metadata": {},
   "outputs": [
    {
     "data": {
      "text/html": [
       "        <script type=\"text/javascript\">\n",
       "        window.PlotlyConfig = {MathJaxConfig: 'local'};\n",
       "        if (window.MathJax) {MathJax.Hub.Config({SVG: {font: \"STIX-Web\"}});}\n",
       "        if (typeof require !== 'undefined') {\n",
       "        require.undef(\"plotly\");\n",
       "        requirejs.config({\n",
       "            paths: {\n",
       "                'plotly': ['https://cdn.plot.ly/plotly-latest.min']\n",
       "            }\n",
       "        });\n",
       "        require(['plotly'], function(Plotly) {\n",
       "            window._Plotly = Plotly;\n",
       "        });\n",
       "        }\n",
       "        </script>\n",
       "        "
      ]
     },
     "metadata": {},
     "output_type": "display_data"
    }
   ],
   "source": [
    "import plotly\n",
    "import plotly.graph_objs as go\n",
    "import plotly.io as pio\n",
    "from noise import getNoise, getDSRErrors\n",
    "\n",
    "plotly.offline.init_notebook_mode(connected=True)"
   ]
  },
  {
   "cell_type": "code",
   "execution_count": 8,
   "metadata": {},
   "outputs": [],
   "source": [
    "data = getNoise(\"Referenz\")\n",
    "errs = [i * 3 for i in data[4]]"
   ]
  },
  {
   "cell_type": "code",
   "execution_count": 9,
   "metadata": {},
   "outputs": [
    {
     "data": {
      "application/vnd.plotly.v1+json": {
       "config": {
        "linkText": "Export to plot.ly",
        "plotlyServerURL": "https://plot.ly",
        "responsive": true,
        "showLink": false
       },
       "data": [
        {
         "error_y": {
          "array": [
           0.0006108671750880055,
           0.023708384845872572,
           9.656086163658631e-05,
           0.00014412494579357261,
           8.497152464208257e-05,
           0.00012470765814495764,
           0.00036673696295847337,
           0.00038624344654635294,
           0.00038902956185870474,
           0.0003293994535514774
          ],
          "type": "data",
          "visible": true
         },
         "mode": "markers",
         "name": "Testzelle",
         "type": "scatter",
         "uid": "93244891-0376-456c-a4e5-f97f7fa4b712",
         "x": [
          300,
          400,
          500,
          600,
          700,
          800,
          900,
          1000,
          1100,
          1200
         ],
         "y": [
          0.00312696,
          0.06482399999999999,
          0.018135000000000002,
          0.030094000000000003,
          0.0836576,
          0.12858800000000004,
          0.196066,
          0.288982,
          0.31952800000000003,
          0.30981200000000003
         ]
        }
       ],
       "layout": {}
      },
      "text/html": [
       "<div>\n",
       "        \n",
       "        \n",
       "            <div id=\"2af45e8f-6e87-4dc9-bf4d-367b33254a34\" class=\"plotly-graph-div\" style=\"height:525px; width:100%;\"></div>\n",
       "            <script type=\"text/javascript\">\n",
       "                require([\"plotly\"], function(Plotly) {\n",
       "                    window.PLOTLYENV=window.PLOTLYENV || {};\n",
       "                    window.PLOTLYENV.BASE_URL='https://plot.ly';\n",
       "                    \n",
       "                if (document.getElementById(\"2af45e8f-6e87-4dc9-bf4d-367b33254a34\")) {\n",
       "                    Plotly.newPlot(\n",
       "                        '2af45e8f-6e87-4dc9-bf4d-367b33254a34',\n",
       "                        [{\"error_y\": {\"array\": [0.0006108671750880055, 0.023708384845872572, 9.656086163658631e-05, 0.00014412494579357261, 8.497152464208257e-05, 0.00012470765814495764, 0.00036673696295847337, 0.00038624344654635294, 0.00038902956185870474, 0.0003293994535514774], \"type\": \"data\", \"visible\": true}, \"mode\": \"markers\", \"name\": \"Testzelle\", \"type\": \"scatter\", \"uid\": \"c1b9a4c3-8f64-4852-92f5-1d878c7d5649\", \"x\": [300, 400, 500, 600, 700, 800, 900, 1000, 1100, 1200], \"y\": [0.00312696, 0.06482399999999999, 0.018135000000000002, 0.030094000000000003, 0.0836576, 0.12858800000000004, 0.196066, 0.288982, 0.31952800000000003, 0.30981200000000003]}],\n",
       "                        {},\n",
       "                        {\"showLink\": false, \"linkText\": \"Export to plot.ly\", \"plotlyServerURL\": \"https://plot.ly\", \"responsive\": true}\n",
       "                    ).then(function(){\n",
       "                            \n",
       "var gd = document.getElementById('2af45e8f-6e87-4dc9-bf4d-367b33254a34');\n",
       "var x = new MutationObserver(function (mutations, observer) {{\n",
       "        var display = window.getComputedStyle(gd).display;\n",
       "        if (!display || display === 'none') {{\n",
       "            console.log([gd, 'removed!']);\n",
       "            Plotly.purge(gd);\n",
       "            observer.disconnect();\n",
       "        }}\n",
       "}});\n",
       "\n",
       "// Listen for the removal of the full notebook cells\n",
       "var notebookContainer = gd.closest('#notebook-container');\n",
       "if (notebookContainer) {{\n",
       "    x.observe(notebookContainer, {childList: true});\n",
       "}}\n",
       "\n",
       "// Listen for the clearing of the current output cell\n",
       "var outputEl = gd.closest('.output');\n",
       "if (outputEl) {{\n",
       "    x.observe(outputEl, {childList: true});\n",
       "}}\n",
       "\n",
       "                        })\n",
       "                };\n",
       "                });\n",
       "            </script>\n",
       "        </div>"
      ]
     },
     "metadata": {},
     "output_type": "display_data"
    }
   ],
   "source": [
    "trace0 = go.Scatter(\n",
    "    x = data[0],\n",
    "    y = data[3],\n",
    "    mode = 'markers',\n",
    "    name = 'Testzelle',\n",
    "    error_y=dict(\n",
    "            type='data',\n",
    "            array=errs,\n",
    "            visible=True\n",
    "        )\n",
    ")\n",
    "\n",
    "traces = [trace0]\n",
    "plotly.offline.iplot(traces, filename='scatter-mode')\n",
    "#[i * 5 for i in my_list]"
   ]
  },
  {
   "cell_type": "code",
   "execution_count": 13,
   "metadata": {},
   "outputs": [
    {
     "name": "stdout",
     "output_type": "stream",
     "text": [
      "[[300.0, 400.0, 500.0, 600.0, 700.0, 800.0, 900.0, 1000.0, 1100.0, 1200.0], [0.35215680144377104, 0.6932835588518919, 0.9013459391390819, 1.106748980464318, 1.2848497039479383, 1.4507633899663401, 1.5805005899640472, 1.4836780757693468, 0.5869702138031206, 0.004977754550796286]]\n"
     ]
    },
    {
     "data": {
      "application/vnd.plotly.v1+json": {
       "config": {
        "linkText": "Export to plot.ly",
        "plotlyServerURL": "https://plot.ly",
        "responsive": true,
        "showLink": false
       },
       "data": [
        {
         "error_y": {
          "array": [
           0.0006108671750880055,
           0.023708384845872572,
           9.656086163658631e-05,
           0.00014412494579357261,
           8.497152464208257e-05,
           0.00012470765814495764,
           0.00036673696295847337,
           0.00038624344654635294,
           0.00038902956185870474,
           0.0003293994535514774
          ],
          "type": "data",
          "visible": true
         },
         "mode": "markers",
         "name": "Testzelle",
         "type": "scatter",
         "uid": "11822e26-6a0f-4813-97da-4772a9ed6ef0",
         "x": [
          300,
          400,
          500,
          600,
          700,
          800,
          900,
          1000,
          1100,
          1200
         ],
         "y": [
          0.35215680144377104,
          0.6932835588518919,
          0.9013459391390819,
          1.106748980464318,
          1.2848497039479383,
          1.4507633899663401,
          1.5805005899640472,
          1.4836780757693468,
          0.5869702138031206,
          0.004977754550796286
         ]
        }
       ],
       "layout": {}
      },
      "text/html": [
       "<div>\n",
       "        \n",
       "        \n",
       "            <div id=\"cddbe263-5acc-4488-9875-9a83de16bd3f\" class=\"plotly-graph-div\" style=\"height:525px; width:100%;\"></div>\n",
       "            <script type=\"text/javascript\">\n",
       "                require([\"plotly\"], function(Plotly) {\n",
       "                    window.PLOTLYENV=window.PLOTLYENV || {};\n",
       "                    window.PLOTLYENV.BASE_URL='https://plot.ly';\n",
       "                    \n",
       "                if (document.getElementById(\"cddbe263-5acc-4488-9875-9a83de16bd3f\")) {\n",
       "                    Plotly.newPlot(\n",
       "                        'cddbe263-5acc-4488-9875-9a83de16bd3f',\n",
       "                        [{\"error_y\": {\"array\": [0.0006108671750880055, 0.023708384845872572, 9.656086163658631e-05, 0.00014412494579357261, 8.497152464208257e-05, 0.00012470765814495764, 0.00036673696295847337, 0.00038624344654635294, 0.00038902956185870474, 0.0003293994535514774], \"type\": \"data\", \"visible\": true}, \"mode\": \"markers\", \"name\": \"Testzelle\", \"type\": \"scatter\", \"uid\": \"06d6ff0d-bc08-4550-b6b8-fe3de15a039d\", \"x\": [300.0, 400.0, 500.0, 600.0, 700.0, 800.0, 900.0, 1000.0, 1100.0, 1200.0], \"y\": [0.35215680144377104, 0.6932835588518919, 0.9013459391390819, 1.106748980464318, 1.2848497039479383, 1.4507633899663401, 1.5805005899640472, 1.4836780757693468, 0.5869702138031206, 0.004977754550796286]}],\n",
       "                        {},\n",
       "                        {\"showLink\": false, \"linkText\": \"Export to plot.ly\", \"plotlyServerURL\": \"https://plot.ly\", \"responsive\": true}\n",
       "                    ).then(function(){\n",
       "                            \n",
       "var gd = document.getElementById('cddbe263-5acc-4488-9875-9a83de16bd3f');\n",
       "var x = new MutationObserver(function (mutations, observer) {{\n",
       "        var display = window.getComputedStyle(gd).display;\n",
       "        if (!display || display === 'none') {{\n",
       "            console.log([gd, 'removed!']);\n",
       "            Plotly.purge(gd);\n",
       "            observer.disconnect();\n",
       "        }}\n",
       "}});\n",
       "\n",
       "// Listen for the removal of the full notebook cells\n",
       "var notebookContainer = gd.closest('#notebook-container');\n",
       "if (notebookContainer) {{\n",
       "    x.observe(notebookContainer, {childList: true});\n",
       "}}\n",
       "\n",
       "// Listen for the clearing of the current output cell\n",
       "var outputEl = gd.closest('.output');\n",
       "if (outputEl) {{\n",
       "    x.observe(outputEl, {childList: true});\n",
       "}}\n",
       "\n",
       "                        })\n",
       "                };\n",
       "                });\n",
       "            </script>\n",
       "        </div>"
      ]
     },
     "metadata": {},
     "output_type": "display_data"
    }
   ],
   "source": [
    "dsr = getDSRErrors()\n",
    "print(dsr)\n",
    "\n",
    "trace0 = go.Scatter(\n",
    "    x = dsr[0],\n",
    "    y = dsr[1],\n",
    "    mode = 'markers',\n",
    "    name = 'Testzelle',\n",
    "    error_y=dict(\n",
    "            type='data',\n",
    "            array=errs,\n",
    "            visible=True\n",
    "        )\n",
    ")\n",
    "\n",
    "traces = [trace0]\n",
    "plotly.offline.iplot(traces, filename='scatter-mode')\n",
    "#[i * 5 for i in my_list]"
   ]
  },
  {
   "cell_type": "code",
   "execution_count": null,
   "metadata": {},
   "outputs": [],
   "source": []
  }
 ],
 "metadata": {
  "kernelspec": {
   "display_name": "Python 3",
   "language": "python",
   "name": "python3"
  },
  "language_info": {
   "codemirror_mode": {
    "name": "ipython",
    "version": 3
   },
   "file_extension": ".py",
   "mimetype": "text/x-python",
   "name": "python",
   "nbconvert_exporter": "python",
   "pygments_lexer": "ipython3",
   "version": "3.6.7"
  }
 },
 "nbformat": 4,
 "nbformat_minor": 2
}
