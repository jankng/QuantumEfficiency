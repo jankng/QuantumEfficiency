{
 "cells": [
  {
   "cell_type": "code",
   "execution_count": 1,
   "metadata": {},
   "outputs": [
    {
     "data": {
      "text/html": [
       "        <script type=\"text/javascript\">\n",
       "        window.PlotlyConfig = {MathJaxConfig: 'local'};\n",
       "        if (window.MathJax) {MathJax.Hub.Config({SVG: {font: \"STIX-Web\"}});}\n",
       "        if (typeof require !== 'undefined') {\n",
       "        require.undef(\"plotly\");\n",
       "        requirejs.config({\n",
       "            paths: {\n",
       "                'plotly': ['https://cdn.plot.ly/plotly-latest.min']\n",
       "            }\n",
       "        });\n",
       "        require(['plotly'], function(Plotly) {\n",
       "            window._Plotly = Plotly;\n",
       "        });\n",
       "        }\n",
       "        </script>\n",
       "        "
      ]
     },
     "metadata": {},
     "output_type": "display_data"
    }
   ],
   "source": [
    "import plotly\n",
    "import plotly.graph_objs as go\n",
    "import plotly.io as pio\n",
    "from temp import getAbsoluteEQE, getAbsEQEErrs\n",
    "\n",
    "plotly.offline.init_notebook_mode(connected=True)"
   ]
  },
  {
   "cell_type": "code",
   "execution_count": 5,
   "metadata": {},
   "outputs": [],
   "source": [
    "def genLayout(title, xlabel, ylabel, legendyn):\n",
    "    layout = go.Layout(\n",
    "        title=go.layout.Title(\n",
    "            text=title,\n",
    "            xref='paper',\n",
    "            x=0\n",
    "        ),\n",
    "        xaxis=go.layout.XAxis(\n",
    "            title=go.layout.xaxis.Title(\n",
    "                text=xlabel\n",
    "            ),\n",
    "            #range=[1000, 1200]\n",
    "        ),\n",
    "        yaxis=go.layout.YAxis(\n",
    "            title=go.layout.yaxis.Title(\n",
    "                text=ylabel\n",
    "            ),\n",
    "            #range=[0, 1]\n",
    "        ),\n",
    "        showlegend=legendyn\n",
    "    )\n",
    "    return layout"
   ]
  },
  {
   "cell_type": "code",
   "execution_count": 6,
   "metadata": {},
   "outputs": [],
   "source": [
    "albsf = getAbsEQEErrs(\"AlBSF25.txt\", 37.02)\n",
    "perc = getAbsEQEErrs(\"PERC25.txt\", 38.582)"
   ]
  },
  {
   "cell_type": "code",
   "execution_count": 14,
   "metadata": {
    "scrolled": false
   },
   "outputs": [
    {
     "data": {
      "text/plain": [
       "'../../InteractiveGraphs/AlBSFvsPERC.html'"
      ]
     },
     "execution_count": 14,
     "metadata": {},
     "output_type": "execute_result"
    }
   ],
   "source": [
    "trace0 = go.Scatter(\n",
    "    x = albsf[0],\n",
    "    y = albsf[1],\n",
    "    mode = 'lines+markers',\n",
    "    name = 'AlBSF @ 25°C',\n",
    "    error_y=dict(\n",
    "            type='data',\n",
    "            array=albsf[2],\n",
    "            visible=True\n",
    "        )\n",
    ")\n",
    "trace1 = go.Scatter(\n",
    "    x = perc[0],\n",
    "    y = perc[1],\n",
    "    mode = 'lines+markers',\n",
    "    name = 'PERC @ 25°C',\n",
    "    error_y=dict(\n",
    "            type='data',\n",
    "            array=perc[2],\n",
    "            visible=True\n",
    "        )\n",
    ")\n",
    "\n",
    "data = [trace0, trace1]\n",
    "\n",
    "title = 'Comparison of EQE of PERC vs. Al-BSF Cell'\n",
    "xlabel = 'Wavelength [nm]'\n",
    "ylabel = 'EQE'\n",
    "fig = go.Figure(data=data, layout=genLayout(title, xlabel, ylabel, True))\n",
    "\n",
    "plotly.offline.plot(fig, filename='../../InteractiveGraphs/AlBSFvsPERC.html')\n",
    "#pio.write_image(fig, '../../Latex/figures/AlBSFvsPERC.eps')"
   ]
  },
  {
   "cell_type": "code",
   "execution_count": 13,
   "metadata": {
    "scrolled": false
   },
   "outputs": [
    {
     "data": {
      "text/plain": [
       "'../../InteractiveGraphs/PERCTemps.html'"
      ]
     },
     "execution_count": 13,
     "metadata": {},
     "output_type": "execute_result"
    }
   ],
   "source": [
    "def percTemp(temp):\n",
    "    return getAbsoluteEQE(\"PERC\" + str(temp) + \".txt\", 38.582)\n",
    "\n",
    "def percTrace(temp):\n",
    "    perc = percTemp(temp)\n",
    "    trace = go.Scatter(\n",
    "        x = perc[0],\n",
    "        y = perc[1],\n",
    "        mode = 'lines+markers',\n",
    "        name = 'PERC @ ' + str(temp) + '°C'\n",
    "    )\n",
    "    return trace\n",
    "    \n",
    "data = [percTrace(15), percTrace(20), percTrace(25), percTrace(30), percTrace(35), percTrace(40)]\n",
    "title = 'EQE of PERC with varying temperature'\n",
    "xlabel = 'Wavelength [nm]'\n",
    "ylabel = 'EQE'\n",
    "fig = go.Figure(data=data, layout=genLayout(title, xlabel, ylabel, True))\n",
    "\n",
    "plotly.offline.plot(fig, filename='../../InteractiveGraphs/PERCTemps.html')\n",
    "#pio.write_image(fig, '../../Latex/figures/TempEQEsZoom.eps')"
   ]
  },
  {
   "cell_type": "code",
   "execution_count": 16,
   "metadata": {},
   "outputs": [],
   "source": [
    "tempCoefs = []\n",
    "for i in range(15, 40, 5):\n",
    "    n = 0\n",
    "    eqeLow = percTemp(i)\n",
    "    eqeHigh = percTemp(i + 5)\n",
    "    data = [[], []]\n",
    "    while 300+10*n < 1201:\n",
    "        data[0].append(eqeLow[0][n])\n",
    "        data[1].append((1 / eqeLow[1][n]) * (eqeHigh[1][n] - eqeLow[1][n]) / 5)\n",
    "        n = n+1\n",
    "    tempCoefs.append(data)\n",
    "    \n",
    "    \n",
    "#cp.append((1 / eqeLow[1][n]) * (eqeHigh[1][n] - eqeLow[1][n]) / 5)\n",
    "#print(tempCoefs[0])"
   ]
  },
  {
   "cell_type": "code",
   "execution_count": 18,
   "metadata": {},
   "outputs": [
    {
     "data": {
      "text/plain": [
       "'../../InteractiveGraphs/PERCTempCoefs.html'"
      ]
     },
     "execution_count": 18,
     "metadata": {},
     "output_type": "execute_result"
    }
   ],
   "source": [
    "def tempTrace(t):\n",
    "    trace = go.Scatter(\n",
    "        x = tempCoefs[t][0],\n",
    "        y = tempCoefs[t][1],\n",
    "        mode = 'lines+markers',\n",
    "        name = 'T = ' + str(15+5*t) + '°C'\n",
    "    )\n",
    "    return trace\n",
    "    \n",
    "data = [tempTrace(t) for t in range(0, 5)]\n",
    "\n",
    "title = 'Temperature Coefficient of PERC Cell'\n",
    "xlabel = 'Wavelength [nm]'\n",
    "ylabel = 'Temperature Coefficient [1 / K]'\n",
    "fig = go.Figure(data=data, layout=genLayout(title, xlabel, ylabel, True))\n",
    "\n",
    "plotly.offline.plot(fig, filename='../../InteractiveGraphs/PERCTempCoefs.html')\n",
    "#pio.write_image(fig, '../../Latex/figures/TempCoefs.eps')"
   ]
  },
  {
   "cell_type": "code",
   "execution_count": null,
   "metadata": {},
   "outputs": [],
   "source": []
  }
 ],
 "metadata": {
  "kernelspec": {
   "display_name": "Python 3",
   "language": "python",
   "name": "python3"
  },
  "language_info": {
   "codemirror_mode": {
    "name": "ipython",
    "version": 3
   },
   "file_extension": ".py",
   "mimetype": "text/x-python",
   "name": "python",
   "nbconvert_exporter": "python",
   "pygments_lexer": "ipython3",
   "version": "3.6.7"
  }
 },
 "nbformat": 4,
 "nbformat_minor": 2
}
