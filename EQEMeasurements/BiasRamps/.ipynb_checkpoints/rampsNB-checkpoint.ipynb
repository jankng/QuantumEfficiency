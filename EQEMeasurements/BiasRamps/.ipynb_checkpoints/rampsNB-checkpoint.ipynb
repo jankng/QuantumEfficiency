{
 "cells": [
  {
   "cell_type": "code",
   "execution_count": 1,
   "metadata": {},
   "outputs": [
    {
     "data": {
      "text/html": [
       "        <script type=\"text/javascript\">\n",
       "        window.PlotlyConfig = {MathJaxConfig: 'local'};\n",
       "        if (window.MathJax) {MathJax.Hub.Config({SVG: {font: \"STIX-Web\"}});}\n",
       "        if (typeof require !== 'undefined') {\n",
       "        require.undef(\"plotly\");\n",
       "        requirejs.config({\n",
       "            paths: {\n",
       "                'plotly': ['https://cdn.plot.ly/plotly-latest.min']\n",
       "            }\n",
       "        });\n",
       "        require(['plotly'], function(Plotly) {\n",
       "            window._Plotly = Plotly;\n",
       "        });\n",
       "        }\n",
       "        </script>\n",
       "        "
      ]
     },
     "metadata": {},
     "output_type": "display_data"
    }
   ],
   "source": [
    "import plotly\n",
    "import plotly.graph_objs as go\n",
    "import plotly.io as pio\n",
    "from ramps import getDSR, getData\n",
    "from scipy.stats import linregress\n",
    "\n",
    "plotly.offline.init_notebook_mode(connected=True)"
   ]
  },
  {
   "cell_type": "code",
   "execution_count": 2,
   "metadata": {},
   "outputs": [
    {
     "name": "stdout",
     "output_type": "stream",
     "text": [
      "[[350.0, 400.0, 450.0, 500.0, 550.0, 600.0, 650.0, 700.0, 750.0, 800.0, 850.0, 900.0, 950.0, 1000.0, 1050.0, 1100.0], [0.018975, 0.07655, 0.016685, 0.02703, 0.04541, 0.06194, 0.07015, 0.08556, 0.0732, 0.07481, 0.07327, 0.09218, 0.10484, 0.10404, 0.08126, 0.0413], [0.016565, 0.06201, 0.01307, 0.018205, 0.02368, 0.030255, 0.05293, 0.08377, 0.11138, 0.1285, 0.14754, 0.19605, 0.24775, 0.28875, 0.31065, 0.31905]]\n"
     ]
    }
   ],
   "source": [
    "perc11 = getData(\"AlBSF11V.txt\")\n",
    "perc12 = getData(\"AlBSF12V.txt\")\n",
    "print(perc11)"
   ]
  },
  {
   "cell_type": "code",
   "execution_count": 3,
   "metadata": {},
   "outputs": [
    {
     "data": {
      "application/vnd.plotly.v1+json": {
       "config": {
        "linkText": "Export to plot.ly",
        "plotlyServerURL": "https://plot.ly",
        "responsive": true,
        "showLink": false
       },
       "data": [
        {
         "mode": "lines+markers",
         "name": "PERC @ 11V",
         "type": "scatter",
         "uid": "73f09f7e-ff10-426a-b29e-673662a7f098",
         "x": [
          350,
          400,
          450,
          500,
          550,
          600,
          650,
          700,
          750,
          800,
          850,
          900,
          950,
          1000,
          1050,
          1100
         ],
         "y": [
          0.018975,
          0.07655,
          0.016685,
          0.02703,
          0.04541,
          0.06194,
          0.07015,
          0.08556,
          0.0732,
          0.07481,
          0.07327,
          0.09218,
          0.10484,
          0.10404,
          0.08126,
          0.0413
         ]
        },
        {
         "mode": "markers",
         "name": "PERC @ 12V",
         "type": "scatter",
         "uid": "3b1dbccf-fbec-4abb-8401-cc229b2aa3e2",
         "x": [
          350,
          400,
          450,
          500,
          550,
          600,
          650,
          700,
          750,
          800,
          850,
          900,
          950,
          1000,
          1050,
          1100
         ],
         "y": [
          0.002886,
          0.011122,
          0.0029155,
          0.004899,
          0.007954,
          0.010008,
          0.01153,
          0.012894,
          0.0118,
          0.012034,
          0.011674,
          0.01345,
          0.017552,
          0.017792,
          0.014066,
          0.00748
         ]
        }
       ],
       "layout": {}
      },
      "text/html": [
       "<div>\n",
       "        \n",
       "        \n",
       "            <div id=\"5122a941-fde1-4a2a-ac0c-076e2705de02\" class=\"plotly-graph-div\" style=\"height:525px; width:100%;\"></div>\n",
       "            <script type=\"text/javascript\">\n",
       "                require([\"plotly\"], function(Plotly) {\n",
       "                    window.PLOTLYENV=window.PLOTLYENV || {};\n",
       "                    window.PLOTLYENV.BASE_URL='https://plot.ly';\n",
       "                    \n",
       "                if (document.getElementById(\"5122a941-fde1-4a2a-ac0c-076e2705de02\")) {\n",
       "                    Plotly.newPlot(\n",
       "                        '5122a941-fde1-4a2a-ac0c-076e2705de02',\n",
       "                        [{\"mode\": \"lines+markers\", \"name\": \"PERC @ 11V\", \"type\": \"scatter\", \"uid\": \"02d63a03-4d9d-4a30-bae5-78ecfd472692\", \"x\": [350.0, 400.0, 450.0, 500.0, 550.0, 600.0, 650.0, 700.0, 750.0, 800.0, 850.0, 900.0, 950.0, 1000.0, 1050.0, 1100.0], \"y\": [0.018975, 0.07655, 0.016685, 0.02703, 0.04541, 0.06194, 0.07015, 0.08556, 0.0732, 0.07481, 0.07327, 0.09218, 0.10484, 0.10404, 0.08126, 0.0413]}, {\"mode\": \"markers\", \"name\": \"PERC @ 12V\", \"type\": \"scatter\", \"uid\": \"7e161bb1-1080-4a08-a1a8-47500f13edd5\", \"x\": [350.0, 400.0, 450.0, 500.0, 550.0, 600.0, 650.0, 700.0, 750.0, 800.0, 850.0, 900.0, 950.0, 1000.0, 1050.0, 1100.0], \"y\": [0.002886, 0.011122, 0.0029155, 0.004899, 0.007954, 0.010008, 0.01153, 0.012894, 0.0118, 0.012034, 0.011674, 0.01345, 0.017552, 0.017792, 0.014066, 0.00748]}],\n",
       "                        {},\n",
       "                        {\"showLink\": false, \"linkText\": \"Export to plot.ly\", \"plotlyServerURL\": \"https://plot.ly\", \"responsive\": true}\n",
       "                    ).then(function(){\n",
       "                            \n",
       "var gd = document.getElementById('5122a941-fde1-4a2a-ac0c-076e2705de02');\n",
       "var x = new MutationObserver(function (mutations, observer) {{\n",
       "        var display = window.getComputedStyle(gd).display;\n",
       "        if (!display || display === 'none') {{\n",
       "            console.log([gd, 'removed!']);\n",
       "            Plotly.purge(gd);\n",
       "            observer.disconnect();\n",
       "        }}\n",
       "}});\n",
       "\n",
       "// Listen for the removal of the full notebook cells\n",
       "var notebookContainer = gd.closest('#notebook-container');\n",
       "if (notebookContainer) {{\n",
       "    x.observe(notebookContainer, {childList: true});\n",
       "}}\n",
       "\n",
       "// Listen for the clearing of the current output cell\n",
       "var outputEl = gd.closest('.output');\n",
       "if (outputEl) {{\n",
       "    x.observe(outputEl, {childList: true});\n",
       "}}\n",
       "\n",
       "                        })\n",
       "                };\n",
       "                });\n",
       "            </script>\n",
       "        </div>"
      ]
     },
     "metadata": {},
     "output_type": "display_data"
    }
   ],
   "source": [
    "trace0 = go.Scatter(\n",
    "    x = perc11[0],\n",
    "    y = perc11[1],\n",
    "    mode = 'lines+markers',\n",
    "    name = 'PERC @ 11V'\n",
    ")\n",
    "\n",
    "trace1 = go.Scatter(\n",
    "    x = perc12[0],\n",
    "    y = perc12[1],\n",
    "    mode = 'markers',\n",
    "    name = 'PERC @ 12V'\n",
    ")\n",
    "\n",
    "data = [trace0, trace1]\n",
    "plotly.offline.iplot(data, filename='scatter-mode')"
   ]
  },
  {
   "cell_type": "code",
   "execution_count": 31,
   "metadata": {},
   "outputs": [
    {
     "data": {
      "text/plain": [
       "'../../InteractiveGraphs/PERCirradiance.html'"
      ]
     },
     "execution_count": 31,
     "metadata": {},
     "output_type": "execute_result"
    }
   ],
   "source": [
    "rampLayout = go.Layout(\n",
    "    title=go.layout.Title(\n",
    "        text='DSR for different irrandiances',\n",
    "        xref='paper',\n",
    "        x=0\n",
    "    ),\n",
    "    xaxis=go.layout.XAxis(\n",
    "        title=go.layout.xaxis.Title(\n",
    "            text='Wavelength [nm]'\n",
    "        )\n",
    "    ),\n",
    "    yaxis=go.layout.YAxis(\n",
    "        title=go.layout.yaxis.Title(\n",
    "            text='DSR [mA W^-1 m²]'\n",
    "        )\n",
    "    )\n",
    ")\n",
    "\n",
    "def percRamps(voltage):\n",
    "    return getDSR(\"PERC\" + str(voltage) + \"V.txt\")\n",
    "\n",
    "def percTrace(voltage):\n",
    "    perc = percRamps(voltage)\n",
    "    trace = go.Scatter(\n",
    "        x = perc[0],\n",
    "        y = perc[1],\n",
    "        mode = 'markers',\n",
    "        name = 'PERC @ ' + str(voltage) + 'V'\n",
    "    )\n",
    "    return trace\n",
    "    \n",
    "data = []\n",
    "for i in range(4, 13):\n",
    "    data.append(percTrace(i))\n",
    "    \n",
    "fig = go.Figure(data=data, layout=rampLayout)\n",
    "plotly.offline.plot(fig, filename='../../InteractiveGraphs/PERCirradiance.html')\n",
    "#pio.write_image(fig, '../../Latex/figures/PERCramp.eps')"
   ]
  },
  {
   "cell_type": "code",
   "execution_count": 32,
   "metadata": {},
   "outputs": [
    {
     "data": {
      "text/plain": [
       "'../../InteractiveGraphs/AlBSFirradiance.html'"
      ]
     },
     "execution_count": 32,
     "metadata": {},
     "output_type": "execute_result"
    }
   ],
   "source": [
    "def albsfRamps(voltage):\n",
    "    return getDSR(\"AlBSF\" + str(voltage) + \"V.txt\")\n",
    "\n",
    "def albsfTrace(voltage):\n",
    "    albsf = albsfRamps(voltage)\n",
    "    trace = go.Scatter(\n",
    "        x = albsf[0],\n",
    "        y = albsf[1],\n",
    "        mode = 'markers',\n",
    "        name = 'AlBSF @ ' + str(voltage) + 'V'\n",
    "    )\n",
    "    return trace\n",
    "    \n",
    "data = []\n",
    "for i in range(4, 13):\n",
    "    data.append(albsfTrace(i))\n",
    "    \n",
    "fig = go.Figure(data=data, layout=rampLayout)\n",
    "plotly.offline.plot(fig, filename='../../InteractiveGraphs/AlBSFirradiance.html')\n",
    "#pio.write_image(fig, '../../Latex/figures/AlBSFramp.eps')"
   ]
  },
  {
   "cell_type": "code",
   "execution_count": 27,
   "metadata": {},
   "outputs": [
    {
     "data": {
      "text/plain": [
       "LinregressResult(slope=0.1732021524417834, intercept=1.8680641110631626, rvalue=0.9995741189297183, pvalue=5.2464603031523385e-12, stderr=0.0019111826047914096)"
      ]
     },
     "execution_count": 27,
     "metadata": {},
     "output_type": "execute_result"
    }
   ],
   "source": [
    "volts = [v for v in range(4, 13)]\n",
    "percAmps = [6.38, 13.70, 24.29, 38.3, 55.9, 76.9, 102.2, 130.9, 156.2]\n",
    "albsfAmps = [5.9, 12.8, 22.8, 36.1, 52.6, 72.6, 96.5, 124.0, 154.9]\n",
    "\n",
    "irradiances = [voltToIrr(v) for v in range(4, 13)]\n",
    "percFit = linregress(irradiances, percAmps)\n",
    "albsfFit = linregress(irradiances, albsfAmps)\n",
    "percFit\n",
    "\n",
    "#model = sm.OLS(percAmps,irradiances)\n",
    "#results = model.fit()\n",
    "#print(results.params)"
   ]
  },
  {
   "cell_type": "code",
   "execution_count": 23,
   "metadata": {},
   "outputs": [],
   "source": [
    "def genLayout(title, xlabel, ylabel):\n",
    "    layout = go.Layout(\n",
    "        title=go.layout.Title(\n",
    "            text=title,\n",
    "            xref='paper',\n",
    "            x=0\n",
    "        ),\n",
    "        xaxis=go.layout.XAxis(\n",
    "            title=go.layout.xaxis.Title(\n",
    "                text=xlabel\n",
    "            )\n",
    "        ),\n",
    "        yaxis=go.layout.YAxis(\n",
    "            title=go.layout.yaxis.Title(\n",
    "                text=ylabel\n",
    "            )\n",
    "        )\n",
    "    )\n",
    "    return layout"
   ]
  },
  {
   "cell_type": "code",
   "execution_count": 24,
   "metadata": {},
   "outputs": [
    {
     "name": "stdout",
     "output_type": "stream",
     "text": [
      "LinregressResult(slope=0.1732021524417834, intercept=1.8680641110631626, rvalue=0.9995741189297183, pvalue=5.2464603031523385e-12, stderr=0.0019111826047914096)\n"
     ]
    }
   ],
   "source": [
    "def voltToIrr(v):\n",
    "    coef = 1000 / 141.93\n",
    "    return coef * (1.4*v*v - 6.8*v + 9)\n",
    "\n",
    "trace0 = go.Scatter(\n",
    "    x = [voltToIrr(v) for v in volts],\n",
    "    y = percAmps,\n",
    "    mode = 'markers',\n",
    "    name = 'PERC'\n",
    ")\n",
    "\n",
    "traceRef = go.Scatter(\n",
    "    x = [e for e in range(0, 1000, 100)],\n",
    "    y = [e*141.93/1000 for e in range(0, 1000, 100)],\n",
    "    mode = 'lines',\n",
    "    name = 'Reference'\n",
    ")\n",
    "\n",
    "trace2 = go.Scatter(\n",
    "    x = irradiances,\n",
    "    y = [percFit[0] * irr + percFit[1] for irr in irradiances],\n",
    "    mode = 'lines',\n",
    "    name = 'PERC Fit'\n",
    ")\n",
    "\n",
    "data = [trace0, trace2]\n",
    "title = 'Linearity of a PERC'\n",
    "xlabel = 'Irradiance [W / m^2]'\n",
    "ylabel = 'Short Circuit Current [mA]'\n",
    "fig = go.Figure(data=data, layout=genLayout(title, xlabel, ylabel))\n",
    "\n",
    "plotly.offline.plot(fig, filename='../../InteractiveGraphs/PERCLinearity.html')\n",
    "#pio.write_image(fig, '../../Latex/figures/PERClin.eps')\n",
    "print(percFit)"
   ]
  },
  {
   "cell_type": "code",
   "execution_count": 17,
   "metadata": {},
   "outputs": [
    {
     "data": {
      "text/plain": [
       "LinregressResult(slope=0.1691360627229489, intercept=0.4494946492271268, rvalue=0.99995205989651, pvalue=2.5116735343584275e-15, stderr=0.0006259898529206711)"
      ]
     },
     "execution_count": 17,
     "metadata": {},
     "output_type": "execute_result"
    }
   ],
   "source": [
    "trace0 = go.Scatter(\n",
    "    x = [voltToIrr(v) for v in volts],\n",
    "    y = albsfAmps,\n",
    "    mode = 'markers',\n",
    "    name = 'AlBSF'\n",
    ")\n",
    "\n",
    "trace2 = go.Scatter(\n",
    "    x = irradiances,\n",
    "    y = [albsfFit[0] * irr + albsfFit[1] for irr in irradiances],\n",
    "    mode = 'lines',\n",
    "    name = 'AlBSF Fit'\n",
    ")\n",
    "\n",
    "data = [trace0, trace2]\n",
    "title = 'Linearity of a Al-BSF Cell'\n",
    "xlabel = 'Irradiance [W / m^2]'\n",
    "ylabel = 'Short Circuit Current [mA]'\n",
    "fig = go.Figure(data=data, layout=genLayout(title, xlabel, ylabel))\n",
    "\n",
    "plotly.offline.plot(fig, filename='../../InteractiveGraphs/AlBSFLinearity.html')\n",
    "#pio.write_image(fig, '../../Latex/figures/AlBSFlin.eps')\n",
    "albsfFit"
   ]
  },
  {
   "cell_type": "code",
   "execution_count": null,
   "metadata": {},
   "outputs": [],
   "source": []
  }
 ],
 "metadata": {
  "kernelspec": {
   "display_name": "Python 3",
   "language": "python",
   "name": "python3"
  },
  "language_info": {
   "codemirror_mode": {
    "name": "ipython",
    "version": 3
   },
   "file_extension": ".py",
   "mimetype": "text/x-python",
   "name": "python",
   "nbconvert_exporter": "python",
   "pygments_lexer": "ipython3",
   "version": "3.6.7"
  }
 },
 "nbformat": 4,
 "nbformat_minor": 2
}
